{
 "cells": [
  {
   "cell_type": "code",
   "execution_count": 1,
   "id": "5350916a",
   "metadata": {},
   "outputs": [],
   "source": [
    "import pandas as pd\n",
    "import numpy as np"
   ]
  },
  {
   "cell_type": "code",
   "execution_count": 2,
   "id": "f09fbd3f",
   "metadata": {},
   "outputs": [],
   "source": [
    "dict1 = {\n",
    "    \"name\": [\"Jarett\", \"Tester\", \"Test\"],\n",
    "    \"designation\": [\"Developer\", \"QA\", \"Tester\"],\n",
    "    \"city\": [\"Verna\", \"Tester\", \"Test\"]\n",
    "}"
   ]
  },
  {
   "cell_type": "code",
   "execution_count": 3,
   "id": "5cdbb148",
   "metadata": {},
   "outputs": [],
   "source": [
    "df = pd.DataFrame(dict1)"
   ]
  },
  {
   "cell_type": "code",
   "execution_count": 4,
   "id": "15c9edb2",
   "metadata": {},
   "outputs": [
    {
     "data": {
      "text/html": [
       "<div>\n",
       "<style scoped>\n",
       "    .dataframe tbody tr th:only-of-type {\n",
       "        vertical-align: middle;\n",
       "    }\n",
       "\n",
       "    .dataframe tbody tr th {\n",
       "        vertical-align: top;\n",
       "    }\n",
       "\n",
       "    .dataframe thead th {\n",
       "        text-align: right;\n",
       "    }\n",
       "</style>\n",
       "<table border=\"1\" class=\"dataframe\">\n",
       "  <thead>\n",
       "    <tr style=\"text-align: right;\">\n",
       "      <th></th>\n",
       "      <th>name</th>\n",
       "      <th>designation</th>\n",
       "      <th>city</th>\n",
       "    </tr>\n",
       "  </thead>\n",
       "  <tbody>\n",
       "    <tr>\n",
       "      <th>0</th>\n",
       "      <td>Jarett</td>\n",
       "      <td>Developer</td>\n",
       "      <td>Verna</td>\n",
       "    </tr>\n",
       "    <tr>\n",
       "      <th>1</th>\n",
       "      <td>Tester</td>\n",
       "      <td>QA</td>\n",
       "      <td>Tester</td>\n",
       "    </tr>\n",
       "    <tr>\n",
       "      <th>2</th>\n",
       "      <td>Test</td>\n",
       "      <td>Tester</td>\n",
       "      <td>Test</td>\n",
       "    </tr>\n",
       "  </tbody>\n",
       "</table>\n",
       "</div>"
      ],
      "text/plain": [
       "     name designation    city\n",
       "0  Jarett   Developer   Verna\n",
       "1  Tester          QA  Tester\n",
       "2    Test      Tester    Test"
      ]
     },
     "execution_count": 4,
     "metadata": {},
     "output_type": "execute_result"
    }
   ],
   "source": [
    "df"
   ]
  },
  {
   "cell_type": "code",
   "execution_count": 6,
   "id": "673577df",
   "metadata": {},
   "outputs": [],
   "source": [
    "df.to_csv(\"data.csv\")"
   ]
  },
  {
   "cell_type": "code",
   "execution_count": 7,
   "id": "8da29c06",
   "metadata": {},
   "outputs": [],
   "source": [
    "df.to_csv(\"data2.csv\", index=False)"
   ]
  },
  {
   "cell_type": "code",
   "execution_count": 8,
   "id": "4825da2b",
   "metadata": {},
   "outputs": [
    {
     "data": {
      "text/html": [
       "<div>\n",
       "<style scoped>\n",
       "    .dataframe tbody tr th:only-of-type {\n",
       "        vertical-align: middle;\n",
       "    }\n",
       "\n",
       "    .dataframe tbody tr th {\n",
       "        vertical-align: top;\n",
       "    }\n",
       "\n",
       "    .dataframe thead th {\n",
       "        text-align: right;\n",
       "    }\n",
       "</style>\n",
       "<table border=\"1\" class=\"dataframe\">\n",
       "  <thead>\n",
       "    <tr style=\"text-align: right;\">\n",
       "      <th></th>\n",
       "      <th>name</th>\n",
       "      <th>designation</th>\n",
       "      <th>city</th>\n",
       "    </tr>\n",
       "  </thead>\n",
       "  <tbody>\n",
       "    <tr>\n",
       "      <th>0</th>\n",
       "      <td>Jarett</td>\n",
       "      <td>Developer</td>\n",
       "      <td>Verna</td>\n",
       "    </tr>\n",
       "    <tr>\n",
       "      <th>1</th>\n",
       "      <td>Tester</td>\n",
       "      <td>QA</td>\n",
       "      <td>Tester</td>\n",
       "    </tr>\n",
       "  </tbody>\n",
       "</table>\n",
       "</div>"
      ],
      "text/plain": [
       "     name designation    city\n",
       "0  Jarett   Developer   Verna\n",
       "1  Tester          QA  Tester"
      ]
     },
     "execution_count": 8,
     "metadata": {},
     "output_type": "execute_result"
    }
   ],
   "source": [
    "df.head(2)"
   ]
  },
  {
   "cell_type": "code",
   "execution_count": 12,
   "id": "82bb43dc",
   "metadata": {
    "scrolled": false
   },
   "outputs": [
    {
     "data": {
      "text/html": [
       "<div>\n",
       "<style scoped>\n",
       "    .dataframe tbody tr th:only-of-type {\n",
       "        vertical-align: middle;\n",
       "    }\n",
       "\n",
       "    .dataframe tbody tr th {\n",
       "        vertical-align: top;\n",
       "    }\n",
       "\n",
       "    .dataframe thead th {\n",
       "        text-align: right;\n",
       "    }\n",
       "</style>\n",
       "<table border=\"1\" class=\"dataframe\">\n",
       "  <thead>\n",
       "    <tr style=\"text-align: right;\">\n",
       "      <th></th>\n",
       "      <th>name</th>\n",
       "      <th>designation</th>\n",
       "      <th>city</th>\n",
       "    </tr>\n",
       "  </thead>\n",
       "  <tbody>\n",
       "    <tr>\n",
       "      <th>1</th>\n",
       "      <td>Tester</td>\n",
       "      <td>QA</td>\n",
       "      <td>Tester</td>\n",
       "    </tr>\n",
       "    <tr>\n",
       "      <th>2</th>\n",
       "      <td>Test</td>\n",
       "      <td>Tester</td>\n",
       "      <td>Test</td>\n",
       "    </tr>\n",
       "  </tbody>\n",
       "</table>\n",
       "</div>"
      ],
      "text/plain": [
       "     name designation    city\n",
       "1  Tester          QA  Tester\n",
       "2    Test      Tester    Test"
      ]
     },
     "execution_count": 12,
     "metadata": {},
     "output_type": "execute_result"
    }
   ],
   "source": [
    "df.tail(2)"
   ]
  },
  {
   "cell_type": "code",
   "execution_count": 14,
   "id": "05a43cd6",
   "metadata": {},
   "outputs": [],
   "source": [
    "train_df = pd.read_csv('trains.csv')"
   ]
  },
  {
   "cell_type": "code",
   "execution_count": 15,
   "id": "e82df617",
   "metadata": {},
   "outputs": [
    {
     "data": {
      "text/html": [
       "<div>\n",
       "<style scoped>\n",
       "    .dataframe tbody tr th:only-of-type {\n",
       "        vertical-align: middle;\n",
       "    }\n",
       "\n",
       "    .dataframe tbody tr th {\n",
       "        vertical-align: top;\n",
       "    }\n",
       "\n",
       "    .dataframe thead th {\n",
       "        text-align: right;\n",
       "    }\n",
       "</style>\n",
       "<table border=\"1\" class=\"dataframe\">\n",
       "  <thead>\n",
       "    <tr style=\"text-align: right;\">\n",
       "      <th></th>\n",
       "      <th>Train Num</th>\n",
       "      <th>Speed</th>\n",
       "      <th>City</th>\n",
       "    </tr>\n",
       "  </thead>\n",
       "  <tbody>\n",
       "    <tr>\n",
       "      <th>0</th>\n",
       "      <td>123423</td>\n",
       "      <td>100</td>\n",
       "      <td>Verna</td>\n",
       "    </tr>\n",
       "    <tr>\n",
       "      <th>1</th>\n",
       "      <td>87657</td>\n",
       "      <td>120</td>\n",
       "      <td>Kolkata</td>\n",
       "    </tr>\n",
       "    <tr>\n",
       "      <th>2</th>\n",
       "      <td>98763</td>\n",
       "      <td>80</td>\n",
       "      <td>Mumbai</td>\n",
       "    </tr>\n",
       "  </tbody>\n",
       "</table>\n",
       "</div>"
      ],
      "text/plain": [
       "   Train Num  Speed     City\n",
       "0     123423    100    Verna\n",
       "1      87657    120  Kolkata\n",
       "2      98763     80   Mumbai"
      ]
     },
     "execution_count": 15,
     "metadata": {},
     "output_type": "execute_result"
    }
   ],
   "source": [
    "train_df.head()"
   ]
  },
  {
   "cell_type": "code",
   "execution_count": 16,
   "id": "86abe2b0",
   "metadata": {},
   "outputs": [
    {
     "data": {
      "text/plain": [
       "0    100\n",
       "1    120\n",
       "2     80\n",
       "Name: Speed, dtype: int64"
      ]
     },
     "execution_count": 16,
     "metadata": {},
     "output_type": "execute_result"
    }
   ],
   "source": [
    "train_df['Speed']"
   ]
  },
  {
   "cell_type": "code",
   "execution_count": 17,
   "id": "3df6f53d",
   "metadata": {},
   "outputs": [
    {
     "data": {
      "text/plain": [
       "100"
      ]
     },
     "execution_count": 17,
     "metadata": {},
     "output_type": "execute_result"
    }
   ],
   "source": [
    "train_df['Speed'][0]"
   ]
  },
  {
   "cell_type": "code",
   "execution_count": 18,
   "id": "0518197c",
   "metadata": {},
   "outputs": [
    {
     "name": "stderr",
     "output_type": "stream",
     "text": [
      "C:\\Users\\Jarett\\AppData\\Local\\Temp\\ipykernel_24180\\3685448129.py:1: SettingWithCopyWarning: \n",
      "A value is trying to be set on a copy of a slice from a DataFrame\n",
      "\n",
      "See the caveats in the documentation: https://pandas.pydata.org/pandas-docs/stable/user_guide/indexing.html#returning-a-view-versus-a-copy\n",
      "  train_df['Speed'][0] = 50\n"
     ]
    }
   ],
   "source": [
    "train_df['Speed'][0] = 50"
   ]
  },
  {
   "cell_type": "code",
   "execution_count": 19,
   "id": "4f18a0d6",
   "metadata": {},
   "outputs": [
    {
     "data": {
      "text/html": [
       "<div>\n",
       "<style scoped>\n",
       "    .dataframe tbody tr th:only-of-type {\n",
       "        vertical-align: middle;\n",
       "    }\n",
       "\n",
       "    .dataframe tbody tr th {\n",
       "        vertical-align: top;\n",
       "    }\n",
       "\n",
       "    .dataframe thead th {\n",
       "        text-align: right;\n",
       "    }\n",
       "</style>\n",
       "<table border=\"1\" class=\"dataframe\">\n",
       "  <thead>\n",
       "    <tr style=\"text-align: right;\">\n",
       "      <th></th>\n",
       "      <th>Train Num</th>\n",
       "      <th>Speed</th>\n",
       "      <th>City</th>\n",
       "    </tr>\n",
       "  </thead>\n",
       "  <tbody>\n",
       "    <tr>\n",
       "      <th>0</th>\n",
       "      <td>123423</td>\n",
       "      <td>50</td>\n",
       "      <td>Verna</td>\n",
       "    </tr>\n",
       "    <tr>\n",
       "      <th>1</th>\n",
       "      <td>87657</td>\n",
       "      <td>120</td>\n",
       "      <td>Kolkata</td>\n",
       "    </tr>\n",
       "    <tr>\n",
       "      <th>2</th>\n",
       "      <td>98763</td>\n",
       "      <td>80</td>\n",
       "      <td>Mumbai</td>\n",
       "    </tr>\n",
       "  </tbody>\n",
       "</table>\n",
       "</div>"
      ],
      "text/plain": [
       "   Train Num  Speed     City\n",
       "0     123423     50    Verna\n",
       "1      87657    120  Kolkata\n",
       "2      98763     80   Mumbai"
      ]
     },
     "execution_count": 19,
     "metadata": {},
     "output_type": "execute_result"
    }
   ],
   "source": [
    "train_df"
   ]
  },
  {
   "cell_type": "code",
   "execution_count": 20,
   "id": "f37ccdc0",
   "metadata": {},
   "outputs": [],
   "source": [
    "train_df.to_csv('updated_trains.csv')"
   ]
  },
  {
   "cell_type": "code",
   "execution_count": 21,
   "id": "7fececa7",
   "metadata": {},
   "outputs": [],
   "source": [
    "### Series"
   ]
  },
  {
   "cell_type": "code",
   "execution_count": 22,
   "id": "89aa291c",
   "metadata": {},
   "outputs": [],
   "source": [
    "ser = pd.Series(np.random.rand(10))"
   ]
  },
  {
   "cell_type": "code",
   "execution_count": 23,
   "id": "202cf541",
   "metadata": {},
   "outputs": [
    {
     "data": {
      "text/plain": [
       "0    0.339948\n",
       "1    0.425178\n",
       "2    0.635187\n",
       "3    0.416896\n",
       "4    0.166626\n",
       "5    0.070093\n",
       "6    0.386904\n",
       "7    0.181272\n",
       "8    0.044781\n",
       "9    0.250798\n",
       "dtype: float64"
      ]
     },
     "execution_count": 23,
     "metadata": {},
     "output_type": "execute_result"
    }
   ],
   "source": [
    "ser"
   ]
  },
  {
   "cell_type": "code",
   "execution_count": 24,
   "id": "2a7adf4c",
   "metadata": {},
   "outputs": [
    {
     "data": {
      "text/plain": [
       "pandas.core.series.Series"
      ]
     },
     "execution_count": 24,
     "metadata": {},
     "output_type": "execute_result"
    }
   ],
   "source": [
    "type(ser)"
   ]
  },
  {
   "cell_type": "code",
   "execution_count": 25,
   "id": "9a05c519",
   "metadata": {},
   "outputs": [],
   "source": [
    "### Data Frame"
   ]
  },
  {
   "cell_type": "code",
   "execution_count": 28,
   "id": "b5fdeb7c",
   "metadata": {},
   "outputs": [],
   "source": [
    "new_df = pd.DataFrame(np.random.rand(334, 5), index=np.arange(334))"
   ]
  },
  {
   "cell_type": "code",
   "execution_count": 29,
   "id": "12870f5a",
   "metadata": {},
   "outputs": [
    {
     "data": {
      "text/html": [
       "<div>\n",
       "<style scoped>\n",
       "    .dataframe tbody tr th:only-of-type {\n",
       "        vertical-align: middle;\n",
       "    }\n",
       "\n",
       "    .dataframe tbody tr th {\n",
       "        vertical-align: top;\n",
       "    }\n",
       "\n",
       "    .dataframe thead th {\n",
       "        text-align: right;\n",
       "    }\n",
       "</style>\n",
       "<table border=\"1\" class=\"dataframe\">\n",
       "  <thead>\n",
       "    <tr style=\"text-align: right;\">\n",
       "      <th></th>\n",
       "      <th>0</th>\n",
       "      <th>1</th>\n",
       "      <th>2</th>\n",
       "      <th>3</th>\n",
       "      <th>4</th>\n",
       "    </tr>\n",
       "  </thead>\n",
       "  <tbody>\n",
       "    <tr>\n",
       "      <th>0</th>\n",
       "      <td>0.109209</td>\n",
       "      <td>0.904499</td>\n",
       "      <td>0.150126</td>\n",
       "      <td>0.839303</td>\n",
       "      <td>0.593613</td>\n",
       "    </tr>\n",
       "    <tr>\n",
       "      <th>1</th>\n",
       "      <td>0.398945</td>\n",
       "      <td>0.533152</td>\n",
       "      <td>0.354245</td>\n",
       "      <td>0.468834</td>\n",
       "      <td>0.847397</td>\n",
       "    </tr>\n",
       "    <tr>\n",
       "      <th>2</th>\n",
       "      <td>0.242672</td>\n",
       "      <td>0.534014</td>\n",
       "      <td>0.952043</td>\n",
       "      <td>0.885470</td>\n",
       "      <td>0.932456</td>\n",
       "    </tr>\n",
       "    <tr>\n",
       "      <th>3</th>\n",
       "      <td>0.833478</td>\n",
       "      <td>0.239791</td>\n",
       "      <td>0.695519</td>\n",
       "      <td>0.691132</td>\n",
       "      <td>0.495701</td>\n",
       "    </tr>\n",
       "    <tr>\n",
       "      <th>4</th>\n",
       "      <td>0.092860</td>\n",
       "      <td>0.537154</td>\n",
       "      <td>0.263159</td>\n",
       "      <td>0.954158</td>\n",
       "      <td>0.403196</td>\n",
       "    </tr>\n",
       "  </tbody>\n",
       "</table>\n",
       "</div>"
      ],
      "text/plain": [
       "          0         1         2         3         4\n",
       "0  0.109209  0.904499  0.150126  0.839303  0.593613\n",
       "1  0.398945  0.533152  0.354245  0.468834  0.847397\n",
       "2  0.242672  0.534014  0.952043  0.885470  0.932456\n",
       "3  0.833478  0.239791  0.695519  0.691132  0.495701\n",
       "4  0.092860  0.537154  0.263159  0.954158  0.403196"
      ]
     },
     "execution_count": 29,
     "metadata": {},
     "output_type": "execute_result"
    }
   ],
   "source": [
    "new_df.head(5)"
   ]
  },
  {
   "cell_type": "code",
   "execution_count": 30,
   "id": "c8dc1bcd",
   "metadata": {},
   "outputs": [
    {
     "data": {
      "text/plain": [
       "pandas.core.frame.DataFrame"
      ]
     },
     "execution_count": 30,
     "metadata": {},
     "output_type": "execute_result"
    }
   ],
   "source": [
    "type(new_df)"
   ]
  },
  {
   "cell_type": "code",
   "execution_count": 32,
   "id": "2a91fa5c",
   "metadata": {},
   "outputs": [
    {
     "data": {
      "text/html": [
       "<div>\n",
       "<style scoped>\n",
       "    .dataframe tbody tr th:only-of-type {\n",
       "        vertical-align: middle;\n",
       "    }\n",
       "\n",
       "    .dataframe tbody tr th {\n",
       "        vertical-align: top;\n",
       "    }\n",
       "\n",
       "    .dataframe thead th {\n",
       "        text-align: right;\n",
       "    }\n",
       "</style>\n",
       "<table border=\"1\" class=\"dataframe\">\n",
       "  <thead>\n",
       "    <tr style=\"text-align: right;\">\n",
       "      <th></th>\n",
       "      <th>0</th>\n",
       "      <th>1</th>\n",
       "      <th>2</th>\n",
       "      <th>3</th>\n",
       "      <th>4</th>\n",
       "    </tr>\n",
       "  </thead>\n",
       "  <tbody>\n",
       "    <tr>\n",
       "      <th>count</th>\n",
       "      <td>334.000000</td>\n",
       "      <td>334.000000</td>\n",
       "      <td>334.000000</td>\n",
       "      <td>334.000000</td>\n",
       "      <td>334.000000</td>\n",
       "    </tr>\n",
       "    <tr>\n",
       "      <th>mean</th>\n",
       "      <td>0.516197</td>\n",
       "      <td>0.477970</td>\n",
       "      <td>0.501125</td>\n",
       "      <td>0.509168</td>\n",
       "      <td>0.488032</td>\n",
       "    </tr>\n",
       "    <tr>\n",
       "      <th>std</th>\n",
       "      <td>0.286520</td>\n",
       "      <td>0.281263</td>\n",
       "      <td>0.293285</td>\n",
       "      <td>0.301970</td>\n",
       "      <td>0.284464</td>\n",
       "    </tr>\n",
       "    <tr>\n",
       "      <th>min</th>\n",
       "      <td>0.000393</td>\n",
       "      <td>0.003300</td>\n",
       "      <td>0.002910</td>\n",
       "      <td>0.010382</td>\n",
       "      <td>0.000989</td>\n",
       "    </tr>\n",
       "    <tr>\n",
       "      <th>25%</th>\n",
       "      <td>0.273676</td>\n",
       "      <td>0.235172</td>\n",
       "      <td>0.237566</td>\n",
       "      <td>0.254446</td>\n",
       "      <td>0.242578</td>\n",
       "    </tr>\n",
       "    <tr>\n",
       "      <th>50%</th>\n",
       "      <td>0.515152</td>\n",
       "      <td>0.473808</td>\n",
       "      <td>0.515144</td>\n",
       "      <td>0.516590</td>\n",
       "      <td>0.463304</td>\n",
       "    </tr>\n",
       "    <tr>\n",
       "      <th>75%</th>\n",
       "      <td>0.745559</td>\n",
       "      <td>0.714073</td>\n",
       "      <td>0.767973</td>\n",
       "      <td>0.764846</td>\n",
       "      <td>0.723155</td>\n",
       "    </tr>\n",
       "    <tr>\n",
       "      <th>max</th>\n",
       "      <td>0.993054</td>\n",
       "      <td>0.996143</td>\n",
       "      <td>0.997927</td>\n",
       "      <td>0.999217</td>\n",
       "      <td>0.999718</td>\n",
       "    </tr>\n",
       "  </tbody>\n",
       "</table>\n",
       "</div>"
      ],
      "text/plain": [
       "                0           1           2           3           4\n",
       "count  334.000000  334.000000  334.000000  334.000000  334.000000\n",
       "mean     0.516197    0.477970    0.501125    0.509168    0.488032\n",
       "std      0.286520    0.281263    0.293285    0.301970    0.284464\n",
       "min      0.000393    0.003300    0.002910    0.010382    0.000989\n",
       "25%      0.273676    0.235172    0.237566    0.254446    0.242578\n",
       "50%      0.515152    0.473808    0.515144    0.516590    0.463304\n",
       "75%      0.745559    0.714073    0.767973    0.764846    0.723155\n",
       "max      0.993054    0.996143    0.997927    0.999217    0.999718"
      ]
     },
     "execution_count": 32,
     "metadata": {},
     "output_type": "execute_result"
    }
   ],
   "source": [
    "new_df.describe()"
   ]
  },
  {
   "cell_type": "code",
   "execution_count": 33,
   "id": "89ab639c",
   "metadata": {},
   "outputs": [
    {
     "data": {
      "text/plain": [
       "0    float64\n",
       "1    float64\n",
       "2    float64\n",
       "3    float64\n",
       "4    float64\n",
       "dtype: object"
      ]
     },
     "execution_count": 33,
     "metadata": {},
     "output_type": "execute_result"
    }
   ],
   "source": [
    "new_df.dtypes"
   ]
  },
  {
   "cell_type": "code",
   "execution_count": 34,
   "id": "028e9dfe",
   "metadata": {},
   "outputs": [
    {
     "data": {
      "text/plain": [
       "Int64Index([  0,   1,   2,   3,   4,   5,   6,   7,   8,   9,\n",
       "            ...\n",
       "            324, 325, 326, 327, 328, 329, 330, 331, 332, 333],\n",
       "           dtype='int64', length=334)"
      ]
     },
     "execution_count": 34,
     "metadata": {},
     "output_type": "execute_result"
    }
   ],
   "source": [
    "new_df.index"
   ]
  },
  {
   "cell_type": "code",
   "execution_count": 37,
   "id": "8fd7e579",
   "metadata": {},
   "outputs": [
    {
     "data": {
      "text/html": [
       "<div>\n",
       "<style scoped>\n",
       "    .dataframe tbody tr th:only-of-type {\n",
       "        vertical-align: middle;\n",
       "    }\n",
       "\n",
       "    .dataframe tbody tr th {\n",
       "        vertical-align: top;\n",
       "    }\n",
       "\n",
       "    .dataframe thead th {\n",
       "        text-align: right;\n",
       "    }\n",
       "</style>\n",
       "<table border=\"1\" class=\"dataframe\">\n",
       "  <thead>\n",
       "    <tr style=\"text-align: right;\">\n",
       "      <th></th>\n",
       "      <th>0</th>\n",
       "      <th>1</th>\n",
       "      <th>2</th>\n",
       "      <th>3</th>\n",
       "      <th>4</th>\n",
       "      <th>5</th>\n",
       "      <th>6</th>\n",
       "      <th>7</th>\n",
       "      <th>8</th>\n",
       "      <th>9</th>\n",
       "      <th>...</th>\n",
       "      <th>324</th>\n",
       "      <th>325</th>\n",
       "      <th>326</th>\n",
       "      <th>327</th>\n",
       "      <th>328</th>\n",
       "      <th>329</th>\n",
       "      <th>330</th>\n",
       "      <th>331</th>\n",
       "      <th>332</th>\n",
       "      <th>333</th>\n",
       "    </tr>\n",
       "  </thead>\n",
       "  <tbody>\n",
       "    <tr>\n",
       "      <th>0</th>\n",
       "      <td>0.109209</td>\n",
       "      <td>0.398945</td>\n",
       "      <td>0.242672</td>\n",
       "      <td>0.833478</td>\n",
       "      <td>0.092860</td>\n",
       "      <td>0.575242</td>\n",
       "      <td>0.903326</td>\n",
       "      <td>0.620235</td>\n",
       "      <td>0.413015</td>\n",
       "      <td>0.534978</td>\n",
       "      <td>...</td>\n",
       "      <td>0.178471</td>\n",
       "      <td>0.555771</td>\n",
       "      <td>0.584716</td>\n",
       "      <td>0.607280</td>\n",
       "      <td>0.725508</td>\n",
       "      <td>0.650092</td>\n",
       "      <td>0.871124</td>\n",
       "      <td>0.167299</td>\n",
       "      <td>0.961057</td>\n",
       "      <td>0.499015</td>\n",
       "    </tr>\n",
       "    <tr>\n",
       "      <th>1</th>\n",
       "      <td>0.904499</td>\n",
       "      <td>0.533152</td>\n",
       "      <td>0.534014</td>\n",
       "      <td>0.239791</td>\n",
       "      <td>0.537154</td>\n",
       "      <td>0.707178</td>\n",
       "      <td>0.153457</td>\n",
       "      <td>0.195130</td>\n",
       "      <td>0.986643</td>\n",
       "      <td>0.610911</td>\n",
       "      <td>...</td>\n",
       "      <td>0.552848</td>\n",
       "      <td>0.270039</td>\n",
       "      <td>0.532659</td>\n",
       "      <td>0.445004</td>\n",
       "      <td>0.755727</td>\n",
       "      <td>0.051743</td>\n",
       "      <td>0.483641</td>\n",
       "      <td>0.143496</td>\n",
       "      <td>0.205307</td>\n",
       "      <td>0.472681</td>\n",
       "    </tr>\n",
       "    <tr>\n",
       "      <th>2</th>\n",
       "      <td>0.150126</td>\n",
       "      <td>0.354245</td>\n",
       "      <td>0.952043</td>\n",
       "      <td>0.695519</td>\n",
       "      <td>0.263159</td>\n",
       "      <td>0.104168</td>\n",
       "      <td>0.355328</td>\n",
       "      <td>0.024966</td>\n",
       "      <td>0.595617</td>\n",
       "      <td>0.097592</td>\n",
       "      <td>...</td>\n",
       "      <td>0.810991</td>\n",
       "      <td>0.961881</td>\n",
       "      <td>0.460707</td>\n",
       "      <td>0.534719</td>\n",
       "      <td>0.811786</td>\n",
       "      <td>0.574089</td>\n",
       "      <td>0.286273</td>\n",
       "      <td>0.526742</td>\n",
       "      <td>0.223413</td>\n",
       "      <td>0.532423</td>\n",
       "    </tr>\n",
       "    <tr>\n",
       "      <th>3</th>\n",
       "      <td>0.839303</td>\n",
       "      <td>0.468834</td>\n",
       "      <td>0.885470</td>\n",
       "      <td>0.691132</td>\n",
       "      <td>0.954158</td>\n",
       "      <td>0.062496</td>\n",
       "      <td>0.421001</td>\n",
       "      <td>0.373982</td>\n",
       "      <td>0.063857</td>\n",
       "      <td>0.606241</td>\n",
       "      <td>...</td>\n",
       "      <td>0.972456</td>\n",
       "      <td>0.526327</td>\n",
       "      <td>0.061955</td>\n",
       "      <td>0.300093</td>\n",
       "      <td>0.768711</td>\n",
       "      <td>0.985581</td>\n",
       "      <td>0.898461</td>\n",
       "      <td>0.943323</td>\n",
       "      <td>0.614553</td>\n",
       "      <td>0.230047</td>\n",
       "    </tr>\n",
       "    <tr>\n",
       "      <th>4</th>\n",
       "      <td>0.593613</td>\n",
       "      <td>0.847397</td>\n",
       "      <td>0.932456</td>\n",
       "      <td>0.495701</td>\n",
       "      <td>0.403196</td>\n",
       "      <td>0.526175</td>\n",
       "      <td>0.238154</td>\n",
       "      <td>0.030832</td>\n",
       "      <td>0.002529</td>\n",
       "      <td>0.777405</td>\n",
       "      <td>...</td>\n",
       "      <td>0.365883</td>\n",
       "      <td>0.450390</td>\n",
       "      <td>0.700623</td>\n",
       "      <td>0.924257</td>\n",
       "      <td>0.758827</td>\n",
       "      <td>0.254984</td>\n",
       "      <td>0.132322</td>\n",
       "      <td>0.192081</td>\n",
       "      <td>0.644419</td>\n",
       "      <td>0.741236</td>\n",
       "    </tr>\n",
       "  </tbody>\n",
       "</table>\n",
       "<p>5 rows × 334 columns</p>\n",
       "</div>"
      ],
      "text/plain": [
       "        0         1         2         3         4         5         6    \\\n",
       "0  0.109209  0.398945  0.242672  0.833478  0.092860  0.575242  0.903326   \n",
       "1  0.904499  0.533152  0.534014  0.239791  0.537154  0.707178  0.153457   \n",
       "2  0.150126  0.354245  0.952043  0.695519  0.263159  0.104168  0.355328   \n",
       "3  0.839303  0.468834  0.885470  0.691132  0.954158  0.062496  0.421001   \n",
       "4  0.593613  0.847397  0.932456  0.495701  0.403196  0.526175  0.238154   \n",
       "\n",
       "        7         8         9    ...       324       325       326       327  \\\n",
       "0  0.620235  0.413015  0.534978  ...  0.178471  0.555771  0.584716  0.607280   \n",
       "1  0.195130  0.986643  0.610911  ...  0.552848  0.270039  0.532659  0.445004   \n",
       "2  0.024966  0.595617  0.097592  ...  0.810991  0.961881  0.460707  0.534719   \n",
       "3  0.373982  0.063857  0.606241  ...  0.972456  0.526327  0.061955  0.300093   \n",
       "4  0.030832  0.002529  0.777405  ...  0.365883  0.450390  0.700623  0.924257   \n",
       "\n",
       "        328       329       330       331       332       333  \n",
       "0  0.725508  0.650092  0.871124  0.167299  0.961057  0.499015  \n",
       "1  0.755727  0.051743  0.483641  0.143496  0.205307  0.472681  \n",
       "2  0.811786  0.574089  0.286273  0.526742  0.223413  0.532423  \n",
       "3  0.768711  0.985581  0.898461  0.943323  0.614553  0.230047  \n",
       "4  0.758827  0.254984  0.132322  0.192081  0.644419  0.741236  \n",
       "\n",
       "[5 rows x 334 columns]"
      ]
     },
     "execution_count": 37,
     "metadata": {},
     "output_type": "execute_result"
    }
   ],
   "source": [
    "new_df.T"
   ]
  },
  {
   "cell_type": "code",
   "execution_count": 38,
   "id": "1514a858",
   "metadata": {},
   "outputs": [
    {
     "data": {
      "text/html": [
       "<div>\n",
       "<style scoped>\n",
       "    .dataframe tbody tr th:only-of-type {\n",
       "        vertical-align: middle;\n",
       "    }\n",
       "\n",
       "    .dataframe tbody tr th {\n",
       "        vertical-align: top;\n",
       "    }\n",
       "\n",
       "    .dataframe thead th {\n",
       "        text-align: right;\n",
       "    }\n",
       "</style>\n",
       "<table border=\"1\" class=\"dataframe\">\n",
       "  <thead>\n",
       "    <tr style=\"text-align: right;\">\n",
       "      <th></th>\n",
       "      <th>0</th>\n",
       "      <th>1</th>\n",
       "      <th>2</th>\n",
       "      <th>3</th>\n",
       "      <th>4</th>\n",
       "    </tr>\n",
       "  </thead>\n",
       "  <tbody>\n",
       "    <tr>\n",
       "      <th>0</th>\n",
       "      <td>0.109209</td>\n",
       "      <td>0.904499</td>\n",
       "      <td>0.150126</td>\n",
       "      <td>0.839303</td>\n",
       "      <td>0.593613</td>\n",
       "    </tr>\n",
       "    <tr>\n",
       "      <th>1</th>\n",
       "      <td>0.398945</td>\n",
       "      <td>0.533152</td>\n",
       "      <td>0.354245</td>\n",
       "      <td>0.468834</td>\n",
       "      <td>0.847397</td>\n",
       "    </tr>\n",
       "    <tr>\n",
       "      <th>2</th>\n",
       "      <td>0.242672</td>\n",
       "      <td>0.534014</td>\n",
       "      <td>0.952043</td>\n",
       "      <td>0.885470</td>\n",
       "      <td>0.932456</td>\n",
       "    </tr>\n",
       "    <tr>\n",
       "      <th>3</th>\n",
       "      <td>0.833478</td>\n",
       "      <td>0.239791</td>\n",
       "      <td>0.695519</td>\n",
       "      <td>0.691132</td>\n",
       "      <td>0.495701</td>\n",
       "    </tr>\n",
       "    <tr>\n",
       "      <th>4</th>\n",
       "      <td>0.092860</td>\n",
       "      <td>0.537154</td>\n",
       "      <td>0.263159</td>\n",
       "      <td>0.954158</td>\n",
       "      <td>0.403196</td>\n",
       "    </tr>\n",
       "  </tbody>\n",
       "</table>\n",
       "</div>"
      ],
      "text/plain": [
       "          0         1         2         3         4\n",
       "0  0.109209  0.904499  0.150126  0.839303  0.593613\n",
       "1  0.398945  0.533152  0.354245  0.468834  0.847397\n",
       "2  0.242672  0.534014  0.952043  0.885470  0.932456\n",
       "3  0.833478  0.239791  0.695519  0.691132  0.495701\n",
       "4  0.092860  0.537154  0.263159  0.954158  0.403196"
      ]
     },
     "execution_count": 38,
     "metadata": {},
     "output_type": "execute_result"
    }
   ],
   "source": [
    "new_df.head(5)"
   ]
  },
  {
   "cell_type": "code",
   "execution_count": 39,
   "id": "bc58725a",
   "metadata": {},
   "outputs": [],
   "source": [
    "new_df.loc[0,0] = 5.0"
   ]
  },
  {
   "cell_type": "code",
   "execution_count": 41,
   "id": "20cd65f3",
   "metadata": {},
   "outputs": [
    {
     "data": {
      "text/html": [
       "<div>\n",
       "<style scoped>\n",
       "    .dataframe tbody tr th:only-of-type {\n",
       "        vertical-align: middle;\n",
       "    }\n",
       "\n",
       "    .dataframe tbody tr th {\n",
       "        vertical-align: top;\n",
       "    }\n",
       "\n",
       "    .dataframe thead th {\n",
       "        text-align: right;\n",
       "    }\n",
       "</style>\n",
       "<table border=\"1\" class=\"dataframe\">\n",
       "  <thead>\n",
       "    <tr style=\"text-align: right;\">\n",
       "      <th></th>\n",
       "      <th>0</th>\n",
       "      <th>1</th>\n",
       "      <th>2</th>\n",
       "      <th>3</th>\n",
       "      <th>4</th>\n",
       "    </tr>\n",
       "  </thead>\n",
       "  <tbody>\n",
       "    <tr>\n",
       "      <th>0</th>\n",
       "      <td>5.000000</td>\n",
       "      <td>0.904499</td>\n",
       "      <td>0.150126</td>\n",
       "      <td>0.839303</td>\n",
       "      <td>0.593613</td>\n",
       "    </tr>\n",
       "    <tr>\n",
       "      <th>1</th>\n",
       "      <td>0.398945</td>\n",
       "      <td>0.533152</td>\n",
       "      <td>0.354245</td>\n",
       "      <td>0.468834</td>\n",
       "      <td>0.847397</td>\n",
       "    </tr>\n",
       "    <tr>\n",
       "      <th>2</th>\n",
       "      <td>0.242672</td>\n",
       "      <td>0.534014</td>\n",
       "      <td>0.952043</td>\n",
       "      <td>0.885470</td>\n",
       "      <td>0.932456</td>\n",
       "    </tr>\n",
       "    <tr>\n",
       "      <th>3</th>\n",
       "      <td>0.833478</td>\n",
       "      <td>0.239791</td>\n",
       "      <td>0.695519</td>\n",
       "      <td>0.691132</td>\n",
       "      <td>0.495701</td>\n",
       "    </tr>\n",
       "    <tr>\n",
       "      <th>4</th>\n",
       "      <td>0.092860</td>\n",
       "      <td>0.537154</td>\n",
       "      <td>0.263159</td>\n",
       "      <td>0.954158</td>\n",
       "      <td>0.403196</td>\n",
       "    </tr>\n",
       "  </tbody>\n",
       "</table>\n",
       "</div>"
      ],
      "text/plain": [
       "          0         1         2         3         4\n",
       "0  5.000000  0.904499  0.150126  0.839303  0.593613\n",
       "1  0.398945  0.533152  0.354245  0.468834  0.847397\n",
       "2  0.242672  0.534014  0.952043  0.885470  0.932456\n",
       "3  0.833478  0.239791  0.695519  0.691132  0.495701\n",
       "4  0.092860  0.537154  0.263159  0.954158  0.403196"
      ]
     },
     "execution_count": 41,
     "metadata": {},
     "output_type": "execute_result"
    }
   ],
   "source": [
    "new_df.head(5)"
   ]
  },
  {
   "cell_type": "code",
   "execution_count": 43,
   "id": "0457c30b",
   "metadata": {},
   "outputs": [],
   "source": [
    "new_df = new_df.drop(0, axis=1)"
   ]
  },
  {
   "cell_type": "code",
   "execution_count": 44,
   "id": "11af0dfd",
   "metadata": {},
   "outputs": [
    {
     "data": {
      "text/html": [
       "<div>\n",
       "<style scoped>\n",
       "    .dataframe tbody tr th:only-of-type {\n",
       "        vertical-align: middle;\n",
       "    }\n",
       "\n",
       "    .dataframe tbody tr th {\n",
       "        vertical-align: top;\n",
       "    }\n",
       "\n",
       "    .dataframe thead th {\n",
       "        text-align: right;\n",
       "    }\n",
       "</style>\n",
       "<table border=\"1\" class=\"dataframe\">\n",
       "  <thead>\n",
       "    <tr style=\"text-align: right;\">\n",
       "      <th></th>\n",
       "      <th>1</th>\n",
       "      <th>2</th>\n",
       "      <th>3</th>\n",
       "      <th>4</th>\n",
       "    </tr>\n",
       "  </thead>\n",
       "  <tbody>\n",
       "    <tr>\n",
       "      <th>0</th>\n",
       "      <td>0.904499</td>\n",
       "      <td>0.150126</td>\n",
       "      <td>0.839303</td>\n",
       "      <td>0.593613</td>\n",
       "    </tr>\n",
       "    <tr>\n",
       "      <th>1</th>\n",
       "      <td>0.533152</td>\n",
       "      <td>0.354245</td>\n",
       "      <td>0.468834</td>\n",
       "      <td>0.847397</td>\n",
       "    </tr>\n",
       "    <tr>\n",
       "      <th>2</th>\n",
       "      <td>0.534014</td>\n",
       "      <td>0.952043</td>\n",
       "      <td>0.885470</td>\n",
       "      <td>0.932456</td>\n",
       "    </tr>\n",
       "    <tr>\n",
       "      <th>3</th>\n",
       "      <td>0.239791</td>\n",
       "      <td>0.695519</td>\n",
       "      <td>0.691132</td>\n",
       "      <td>0.495701</td>\n",
       "    </tr>\n",
       "    <tr>\n",
       "      <th>4</th>\n",
       "      <td>0.537154</td>\n",
       "      <td>0.263159</td>\n",
       "      <td>0.954158</td>\n",
       "      <td>0.403196</td>\n",
       "    </tr>\n",
       "  </tbody>\n",
       "</table>\n",
       "</div>"
      ],
      "text/plain": [
       "          1         2         3         4\n",
       "0  0.904499  0.150126  0.839303  0.593613\n",
       "1  0.533152  0.354245  0.468834  0.847397\n",
       "2  0.534014  0.952043  0.885470  0.932456\n",
       "3  0.239791  0.695519  0.691132  0.495701\n",
       "4  0.537154  0.263159  0.954158  0.403196"
      ]
     },
     "execution_count": 44,
     "metadata": {},
     "output_type": "execute_result"
    }
   ],
   "source": [
    "new_df.head()"
   ]
  },
  {
   "cell_type": "code",
   "execution_count": 45,
   "id": "38242244",
   "metadata": {},
   "outputs": [],
   "source": [
    "### Conditions"
   ]
  },
  {
   "cell_type": "code",
   "execution_count": 48,
   "id": "680f1123",
   "metadata": {},
   "outputs": [
    {
     "data": {
      "text/html": [
       "<div>\n",
       "<style scoped>\n",
       "    .dataframe tbody tr th:only-of-type {\n",
       "        vertical-align: middle;\n",
       "    }\n",
       "\n",
       "    .dataframe tbody tr th {\n",
       "        vertical-align: top;\n",
       "    }\n",
       "\n",
       "    .dataframe thead th {\n",
       "        text-align: right;\n",
       "    }\n",
       "</style>\n",
       "<table border=\"1\" class=\"dataframe\">\n",
       "  <thead>\n",
       "    <tr style=\"text-align: right;\">\n",
       "      <th></th>\n",
       "      <th>1</th>\n",
       "      <th>2</th>\n",
       "      <th>3</th>\n",
       "      <th>4</th>\n",
       "    </tr>\n",
       "  </thead>\n",
       "  <tbody>\n",
       "    <tr>\n",
       "      <th>3</th>\n",
       "      <td>0.239791</td>\n",
       "      <td>0.695519</td>\n",
       "      <td>0.691132</td>\n",
       "      <td>0.495701</td>\n",
       "    </tr>\n",
       "    <tr>\n",
       "      <th>6</th>\n",
       "      <td>0.153457</td>\n",
       "      <td>0.355328</td>\n",
       "      <td>0.421001</td>\n",
       "      <td>0.238154</td>\n",
       "    </tr>\n",
       "    <tr>\n",
       "      <th>7</th>\n",
       "      <td>0.195130</td>\n",
       "      <td>0.024966</td>\n",
       "      <td>0.373982</td>\n",
       "      <td>0.030832</td>\n",
       "    </tr>\n",
       "    <tr>\n",
       "      <th>14</th>\n",
       "      <td>0.206636</td>\n",
       "      <td>0.804109</td>\n",
       "      <td>0.475368</td>\n",
       "      <td>0.614961</td>\n",
       "    </tr>\n",
       "    <tr>\n",
       "      <th>25</th>\n",
       "      <td>0.033191</td>\n",
       "      <td>0.778546</td>\n",
       "      <td>0.819428</td>\n",
       "      <td>0.244201</td>\n",
       "    </tr>\n",
       "  </tbody>\n",
       "</table>\n",
       "</div>"
      ],
      "text/plain": [
       "           1         2         3         4\n",
       "3   0.239791  0.695519  0.691132  0.495701\n",
       "6   0.153457  0.355328  0.421001  0.238154\n",
       "7   0.195130  0.024966  0.373982  0.030832\n",
       "14  0.206636  0.804109  0.475368  0.614961\n",
       "25  0.033191  0.778546  0.819428  0.244201"
      ]
     },
     "execution_count": 48,
     "metadata": {},
     "output_type": "execute_result"
    }
   ],
   "source": [
    "new_df.loc[(new_df[1] < 0.3)].head(5)"
   ]
  },
  {
   "cell_type": "code",
   "execution_count": 51,
   "id": "ff5e217a",
   "metadata": {},
   "outputs": [
    {
     "data": {
      "text/html": [
       "<div>\n",
       "<style scoped>\n",
       "    .dataframe tbody tr th:only-of-type {\n",
       "        vertical-align: middle;\n",
       "    }\n",
       "\n",
       "    .dataframe tbody tr th {\n",
       "        vertical-align: top;\n",
       "    }\n",
       "\n",
       "    .dataframe thead th {\n",
       "        text-align: right;\n",
       "    }\n",
       "</style>\n",
       "<table border=\"1\" class=\"dataframe\">\n",
       "  <thead>\n",
       "    <tr style=\"text-align: right;\">\n",
       "      <th></th>\n",
       "      <th>1</th>\n",
       "      <th>2</th>\n",
       "      <th>3</th>\n",
       "      <th>4</th>\n",
       "    </tr>\n",
       "  </thead>\n",
       "  <tbody>\n",
       "    <tr>\n",
       "      <th>3</th>\n",
       "      <td>0.239791</td>\n",
       "      <td>0.695519</td>\n",
       "      <td>0.691132</td>\n",
       "      <td>0.495701</td>\n",
       "    </tr>\n",
       "    <tr>\n",
       "      <th>6</th>\n",
       "      <td>0.153457</td>\n",
       "      <td>0.355328</td>\n",
       "      <td>0.421001</td>\n",
       "      <td>0.238154</td>\n",
       "    </tr>\n",
       "    <tr>\n",
       "      <th>14</th>\n",
       "      <td>0.206636</td>\n",
       "      <td>0.804109</td>\n",
       "      <td>0.475368</td>\n",
       "      <td>0.614961</td>\n",
       "    </tr>\n",
       "    <tr>\n",
       "      <th>25</th>\n",
       "      <td>0.033191</td>\n",
       "      <td>0.778546</td>\n",
       "      <td>0.819428</td>\n",
       "      <td>0.244201</td>\n",
       "    </tr>\n",
       "    <tr>\n",
       "      <th>26</th>\n",
       "      <td>0.270028</td>\n",
       "      <td>0.538543</td>\n",
       "      <td>0.356565</td>\n",
       "      <td>0.189700</td>\n",
       "    </tr>\n",
       "  </tbody>\n",
       "</table>\n",
       "</div>"
      ],
      "text/plain": [
       "           1         2         3         4\n",
       "3   0.239791  0.695519  0.691132  0.495701\n",
       "6   0.153457  0.355328  0.421001  0.238154\n",
       "14  0.206636  0.804109  0.475368  0.614961\n",
       "25  0.033191  0.778546  0.819428  0.244201\n",
       "26  0.270028  0.538543  0.356565  0.189700"
      ]
     },
     "execution_count": 51,
     "metadata": {},
     "output_type": "execute_result"
    }
   ],
   "source": [
    "new_df.loc[(new_df[1] < 0.3) & (new_df[2] > 0.1)].head(5)"
   ]
  },
  {
   "cell_type": "code",
   "execution_count": 52,
   "id": "8d0d87e0",
   "metadata": {},
   "outputs": [],
   "source": [
    "# Modify original Df, use inplace=True"
   ]
  },
  {
   "cell_type": "code",
   "execution_count": 53,
   "id": "dbd3bc1b",
   "metadata": {},
   "outputs": [
    {
     "data": {
      "text/html": [
       "<div>\n",
       "<style scoped>\n",
       "    .dataframe tbody tr th:only-of-type {\n",
       "        vertical-align: middle;\n",
       "    }\n",
       "\n",
       "    .dataframe tbody tr th {\n",
       "        vertical-align: top;\n",
       "    }\n",
       "\n",
       "    .dataframe thead th {\n",
       "        text-align: right;\n",
       "    }\n",
       "</style>\n",
       "<table border=\"1\" class=\"dataframe\">\n",
       "  <thead>\n",
       "    <tr style=\"text-align: right;\">\n",
       "      <th></th>\n",
       "      <th>1</th>\n",
       "      <th>2</th>\n",
       "      <th>3</th>\n",
       "      <th>4</th>\n",
       "    </tr>\n",
       "  </thead>\n",
       "  <tbody>\n",
       "    <tr>\n",
       "      <th>0</th>\n",
       "      <td>0.904499</td>\n",
       "      <td>0.150126</td>\n",
       "      <td>0.839303</td>\n",
       "      <td>0.593613</td>\n",
       "    </tr>\n",
       "    <tr>\n",
       "      <th>1</th>\n",
       "      <td>0.533152</td>\n",
       "      <td>0.354245</td>\n",
       "      <td>0.468834</td>\n",
       "      <td>0.847397</td>\n",
       "    </tr>\n",
       "    <tr>\n",
       "      <th>2</th>\n",
       "      <td>0.534014</td>\n",
       "      <td>0.952043</td>\n",
       "      <td>0.885470</td>\n",
       "      <td>0.932456</td>\n",
       "    </tr>\n",
       "    <tr>\n",
       "      <th>3</th>\n",
       "      <td>0.239791</td>\n",
       "      <td>0.695519</td>\n",
       "      <td>0.691132</td>\n",
       "      <td>0.495701</td>\n",
       "    </tr>\n",
       "    <tr>\n",
       "      <th>4</th>\n",
       "      <td>0.537154</td>\n",
       "      <td>0.263159</td>\n",
       "      <td>0.954158</td>\n",
       "      <td>0.403196</td>\n",
       "    </tr>\n",
       "  </tbody>\n",
       "</table>\n",
       "</div>"
      ],
      "text/plain": [
       "          1         2         3         4\n",
       "0  0.904499  0.150126  0.839303  0.593613\n",
       "1  0.533152  0.354245  0.468834  0.847397\n",
       "2  0.534014  0.952043  0.885470  0.932456\n",
       "3  0.239791  0.695519  0.691132  0.495701\n",
       "4  0.537154  0.263159  0.954158  0.403196"
      ]
     },
     "execution_count": 53,
     "metadata": {},
     "output_type": "execute_result"
    }
   ],
   "source": [
    "new_df.head()"
   ]
  },
  {
   "cell_type": "code",
   "execution_count": 62,
   "id": "572267b1",
   "metadata": {},
   "outputs": [
    {
     "data": {
      "text/html": [
       "<div>\n",
       "<style scoped>\n",
       "    .dataframe tbody tr th:only-of-type {\n",
       "        vertical-align: middle;\n",
       "    }\n",
       "\n",
       "    .dataframe tbody tr th {\n",
       "        vertical-align: top;\n",
       "    }\n",
       "\n",
       "    .dataframe thead th {\n",
       "        text-align: right;\n",
       "    }\n",
       "</style>\n",
       "<table border=\"1\" class=\"dataframe\">\n",
       "  <thead>\n",
       "    <tr style=\"text-align: right;\">\n",
       "      <th></th>\n",
       "      <th>2</th>\n",
       "      <th>3</th>\n",
       "    </tr>\n",
       "  </thead>\n",
       "  <tbody>\n",
       "    <tr>\n",
       "      <th>0</th>\n",
       "      <td>0.150126</td>\n",
       "      <td>0.839303</td>\n",
       "    </tr>\n",
       "    <tr>\n",
       "      <th>1</th>\n",
       "      <td>0.354245</td>\n",
       "      <td>0.468834</td>\n",
       "    </tr>\n",
       "    <tr>\n",
       "      <th>2</th>\n",
       "      <td>0.952043</td>\n",
       "      <td>0.885470</td>\n",
       "    </tr>\n",
       "    <tr>\n",
       "      <th>3</th>\n",
       "      <td>0.695519</td>\n",
       "      <td>0.691132</td>\n",
       "    </tr>\n",
       "    <tr>\n",
       "      <th>4</th>\n",
       "      <td>0.263159</td>\n",
       "      <td>0.954158</td>\n",
       "    </tr>\n",
       "    <tr>\n",
       "      <th>...</th>\n",
       "      <td>...</td>\n",
       "      <td>...</td>\n",
       "    </tr>\n",
       "    <tr>\n",
       "      <th>329</th>\n",
       "      <td>0.574089</td>\n",
       "      <td>0.985581</td>\n",
       "    </tr>\n",
       "    <tr>\n",
       "      <th>330</th>\n",
       "      <td>0.286273</td>\n",
       "      <td>0.898461</td>\n",
       "    </tr>\n",
       "    <tr>\n",
       "      <th>331</th>\n",
       "      <td>0.526742</td>\n",
       "      <td>0.943323</td>\n",
       "    </tr>\n",
       "    <tr>\n",
       "      <th>332</th>\n",
       "      <td>0.223413</td>\n",
       "      <td>0.614553</td>\n",
       "    </tr>\n",
       "    <tr>\n",
       "      <th>333</th>\n",
       "      <td>0.532423</td>\n",
       "      <td>0.230047</td>\n",
       "    </tr>\n",
       "  </tbody>\n",
       "</table>\n",
       "<p>334 rows × 2 columns</p>\n",
       "</div>"
      ],
      "text/plain": [
       "            2         3\n",
       "0    0.150126  0.839303\n",
       "1    0.354245  0.468834\n",
       "2    0.952043  0.885470\n",
       "3    0.695519  0.691132\n",
       "4    0.263159  0.954158\n",
       "..        ...       ...\n",
       "329  0.574089  0.985581\n",
       "330  0.286273  0.898461\n",
       "331  0.526742  0.943323\n",
       "332  0.223413  0.614553\n",
       "333  0.532423  0.230047\n",
       "\n",
       "[334 rows x 2 columns]"
      ]
     },
     "execution_count": 62,
     "metadata": {},
     "output_type": "execute_result"
    }
   ],
   "source": [
    "new_df.drop([1,4], axis=1, inplace=True)"
   ]
  },
  {
   "cell_type": "code",
   "execution_count": 63,
   "id": "3bfd3c3a",
   "metadata": {},
   "outputs": [
    {
     "data": {
      "text/html": [
       "<div>\n",
       "<style scoped>\n",
       "    .dataframe tbody tr th:only-of-type {\n",
       "        vertical-align: middle;\n",
       "    }\n",
       "\n",
       "    .dataframe tbody tr th {\n",
       "        vertical-align: top;\n",
       "    }\n",
       "\n",
       "    .dataframe thead th {\n",
       "        text-align: right;\n",
       "    }\n",
       "</style>\n",
       "<table border=\"1\" class=\"dataframe\">\n",
       "  <thead>\n",
       "    <tr style=\"text-align: right;\">\n",
       "      <th></th>\n",
       "      <th>2</th>\n",
       "      <th>3</th>\n",
       "    </tr>\n",
       "  </thead>\n",
       "  <tbody>\n",
       "    <tr>\n",
       "      <th>0</th>\n",
       "      <td>0.150126</td>\n",
       "      <td>0.839303</td>\n",
       "    </tr>\n",
       "    <tr>\n",
       "      <th>1</th>\n",
       "      <td>0.354245</td>\n",
       "      <td>0.468834</td>\n",
       "    </tr>\n",
       "    <tr>\n",
       "      <th>2</th>\n",
       "      <td>0.952043</td>\n",
       "      <td>0.885470</td>\n",
       "    </tr>\n",
       "    <tr>\n",
       "      <th>3</th>\n",
       "      <td>0.695519</td>\n",
       "      <td>0.691132</td>\n",
       "    </tr>\n",
       "    <tr>\n",
       "      <th>4</th>\n",
       "      <td>0.263159</td>\n",
       "      <td>0.954158</td>\n",
       "    </tr>\n",
       "    <tr>\n",
       "      <th>...</th>\n",
       "      <td>...</td>\n",
       "      <td>...</td>\n",
       "    </tr>\n",
       "    <tr>\n",
       "      <th>329</th>\n",
       "      <td>0.574089</td>\n",
       "      <td>0.985581</td>\n",
       "    </tr>\n",
       "    <tr>\n",
       "      <th>330</th>\n",
       "      <td>0.286273</td>\n",
       "      <td>0.898461</td>\n",
       "    </tr>\n",
       "    <tr>\n",
       "      <th>331</th>\n",
       "      <td>0.526742</td>\n",
       "      <td>0.943323</td>\n",
       "    </tr>\n",
       "    <tr>\n",
       "      <th>332</th>\n",
       "      <td>0.223413</td>\n",
       "      <td>0.614553</td>\n",
       "    </tr>\n",
       "    <tr>\n",
       "      <th>333</th>\n",
       "      <td>0.532423</td>\n",
       "      <td>0.230047</td>\n",
       "    </tr>\n",
       "  </tbody>\n",
       "</table>\n",
       "<p>334 rows × 2 columns</p>\n",
       "</div>"
      ],
      "text/plain": [
       "            2         3\n",
       "0    0.150126  0.839303\n",
       "1    0.354245  0.468834\n",
       "2    0.952043  0.885470\n",
       "3    0.695519  0.691132\n",
       "4    0.263159  0.954158\n",
       "..        ...       ...\n",
       "329  0.574089  0.985581\n",
       "330  0.286273  0.898461\n",
       "331  0.526742  0.943323\n",
       "332  0.223413  0.614553\n",
       "333  0.532423  0.230047\n",
       "\n",
       "[334 rows x 2 columns]"
      ]
     },
     "execution_count": 63,
     "metadata": {},
     "output_type": "execute_result"
    }
   ],
   "source": [
    "new_df"
   ]
  },
  {
   "cell_type": "code",
   "execution_count": 64,
   "id": "281d1e98",
   "metadata": {},
   "outputs": [
    {
     "data": {
      "text/plain": [
       "(3, 3)"
      ]
     },
     "execution_count": 64,
     "metadata": {},
     "output_type": "execute_result"
    }
   ],
   "source": [
    "df.shape"
   ]
  },
  {
   "cell_type": "code",
   "execution_count": 67,
   "id": "b03431ff",
   "metadata": {},
   "outputs": [
    {
     "data": {
      "text/plain": [
       "<bound method DataFrame.info of      name designation    city\n",
       "0  Jarett   Developer   Verna\n",
       "1  Tester          QA  Tester\n",
       "2    Test      Tester    Test>"
      ]
     },
     "execution_count": 67,
     "metadata": {},
     "output_type": "execute_result"
    }
   ],
   "source": [
    "df.info"
   ]
  },
  {
   "cell_type": "code",
   "execution_count": null,
   "id": "b4e99390",
   "metadata": {},
   "outputs": [],
   "source": []
  }
 ],
 "metadata": {
  "kernelspec": {
   "display_name": "Python 3 (ipykernel)",
   "language": "python",
   "name": "python3"
  },
  "language_info": {
   "codemirror_mode": {
    "name": "ipython",
    "version": 3
   },
   "file_extension": ".py",
   "mimetype": "text/x-python",
   "name": "python",
   "nbconvert_exporter": "python",
   "pygments_lexer": "ipython3",
   "version": "3.8.5"
  }
 },
 "nbformat": 4,
 "nbformat_minor": 5
}
